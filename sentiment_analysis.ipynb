{
  "nbformat": 4,
  "nbformat_minor": 0,
  "metadata": {
    "colab": {
      "name": "Untitled50.ipynb",
      "provenance": []
    },
    "kernelspec": {
      "name": "python3",
      "display_name": "Python 3"
    },
    "language_info": {
      "name": "python"
    }
  },
  "cells": [
    {
      "cell_type": "code",
      "execution_count": null,
      "metadata": {
        "id": "OPtoBil-21P3"
      },
      "outputs": [],
      "source": [
        "#Sentiment_analysis_with_data_cleaning\n",
        "import requests\n",
        "from bs4 import BeautifulSoup"
      ]
    },
    {
      "cell_type": "code",
      "source": [
        "#Scraping Data with Beautiful Soup\n",
        "r = requests.get('https://www.yelp.com/biz/tesla-san-francisco?osq=tesla')"
      ],
      "metadata": {
        "id": "TwIFsDBj4yNc"
      },
      "execution_count": null,
      "outputs": []
    },
    {
      "cell_type": "code",
      "source": [
        "r.status_code"
      ],
      "metadata": {
        "id": "U1oRaWAf47ux"
      },
      "execution_count": null,
      "outputs": []
    },
    {
      "cell_type": "code",
      "source": [
        "r.text"
      ],
      "metadata": {
        "id": "aRLeJtNJ4-oK"
      },
      "execution_count": null,
      "outputs": []
    },
    {
      "cell_type": "code",
      "source": [
        "soup = BeautifulSoup(r.text, 'html.parser')"
      ],
      "metadata": {
        "id": "KbjGD-eB5YuB"
      },
      "execution_count": null,
      "outputs": []
    },
    {
      "cell_type": "code",
      "source": [
        "divs = soup.findAll(class_='comment__09f24__gu0rG css-qgunke')"
      ],
      "metadata": {
        "id": "zB3EAIJ37QuV"
      },
      "execution_count": null,
      "outputs": []
    },
    {
      "cell_type": "code",
      "source": [
        "reviews = []\n",
        "for div in divs:\n",
        "  reviews.append(div.find('span').text)"
      ],
      "metadata": {
        "id": "f9bVrOM17hlk"
      },
      "execution_count": null,
      "outputs": []
    },
    {
      "cell_type": "code",
      "source": [
        "reviews"
      ],
      "metadata": {
        "id": "7xLW5cX0A48h"
      },
      "execution_count": null,
      "outputs": []
    },
    {
      "cell_type": "code",
      "source": [
        "#Analysing Data\n",
        "import pandas  as pd\n",
        "import numpy as np\n"
      ],
      "metadata": {
        "id": "YW5ChUXVCDoW"
      },
      "execution_count": null,
      "outputs": []
    },
    {
      "cell_type": "code",
      "source": [
        "df = pd.DataFrame(np.array(reviews), columns=['review'])"
      ],
      "metadata": {
        "id": "OAvBJLHQCtxO"
      },
      "execution_count": null,
      "outputs": []
    },
    {
      "cell_type": "code",
      "source": [
        "df.head()"
      ],
      "metadata": {
        "id": "zr2-MM9WDCQT"
      },
      "execution_count": null,
      "outputs": []
    },
    {
      "cell_type": "code",
      "source": [
        "len(df['review'])"
      ],
      "metadata": {
        "id": "pCVrdvJSDFbT"
      },
      "execution_count": null,
      "outputs": []
    },
    {
      "cell_type": "code",
      "source": [
        "#number of words in each review\n",
        "df['word_count'] =df['review'].apply(lambda x: len(x.split()))"
      ],
      "metadata": {
        "id": "ewb7ka4KDN3T"
      },
      "execution_count": null,
      "outputs": []
    },
    {
      "cell_type": "code",
      "source": [
        "#number of each single word in review\n",
        "df['char_count'] = df['review'].apply(lambda x: len(x))"
      ],
      "metadata": {
        "id": "Rx0oIZvrDlr6"
      },
      "execution_count": null,
      "outputs": []
    },
    {
      "cell_type": "code",
      "source": [
        "def average_words(x):\n",
        "  words = x.split()\n",
        "  return sum(len(word) for word in words)/len(words)"
      ],
      "metadata": {
        "id": "brDcVql2EmL6"
      },
      "execution_count": null,
      "outputs": []
    },
    {
      "cell_type": "code",
      "source": [
        "df['aver_word_length'] = df['review'].apply(lambda x: average_words(x))"
      ],
      "metadata": {
        "id": "FM6W3b_QFGI4"
      },
      "execution_count": null,
      "outputs": []
    },
    {
      "cell_type": "code",
      "source": [
        "import nltk\n",
        "nltk.download(\"stopwords\")\n",
        "from nltk.corpus import stopwords"
      ],
      "metadata": {
        "id": "AxlpgB2rFxYf"
      },
      "execution_count": null,
      "outputs": []
    },
    {
      "cell_type": "code",
      "source": [
        "stop_words = stopwords.words('english')\n"
      ],
      "metadata": {
        "id": "CtnV-xL4GM82"
      },
      "execution_count": null,
      "outputs": []
    },
    {
      "cell_type": "code",
      "source": [
        "# total_stop_word_count_in_each_review\n",
        "df['stopword_count'] = df['review'].apply(lambda x: len([word for word in x.split() if word.lower() in stop_words]))"
      ],
      "metadata": {
        "id": "7BTXx3wdGUa9"
      },
      "execution_count": null,
      "outputs": []
    },
    {
      "cell_type": "code",
      "source": [
        "# percentage_rate_total_stop_word_count_in_each_review\n",
        "df['stopword_rate'] = df['stopword_count']/df['word_count']"
      ],
      "metadata": {
        "id": "RDePTSRsIRCa"
      },
      "execution_count": null,
      "outputs": []
    },
    {
      "cell_type": "code",
      "source": [
        "df.head()"
      ],
      "metadata": {
        "id": "TLyla9vTJGZn"
      },
      "execution_count": null,
      "outputs": []
    },
    {
      "cell_type": "code",
      "source": [
        "df.sort_values(by = 'stopword_rate')"
      ],
      "metadata": {
        "id": "nJJYVpLSJNba"
      },
      "execution_count": null,
      "outputs": []
    },
    {
      "cell_type": "code",
      "source": [
        "df.describe()"
      ],
      "metadata": {
        "id": "SrvRvM4xJdtH"
      },
      "execution_count": null,
      "outputs": []
    },
    {
      "cell_type": "code",
      "source": [
        "#Data_cleaning\n",
        "#convert_reviews_into_lower_case\n",
        "df['lowercase'] = df['review'].apply (lambda x: \" \".join(word.lower() for word in x.split()))"
      ],
      "metadata": {
        "id": "k8RCytOvJrBG"
      },
      "execution_count": null,
      "outputs": []
    },
    {
      "cell_type": "code",
      "source": [
        "df['punctuation'] = df['lowercase'].str.replace('[^\\w\\s]', '')"
      ],
      "metadata": {
        "id": "vlaksYIPSMle"
      },
      "execution_count": null,
      "outputs": []
    },
    {
      "cell_type": "code",
      "source": [
        "from nltk.corpus import stopwords\n",
        "stop_words = stopwords.words('english')\n",
        "len(stop_words)"
      ],
      "metadata": {
        "id": "4RfFrcKYS34s"
      },
      "execution_count": null,
      "outputs": []
    },
    {
      "cell_type": "code",
      "source": [
        "#removing_stopword_after_punctuation\n",
        "df['stopwords'] = df['punctuation'] .apply(lambda x: \" \".join (word for word in x.split() if word not in stop_words))"
      ],
      "metadata": {
        "id": "HT8wwwKETrLJ"
      },
      "execution_count": null,
      "outputs": []
    },
    {
      "cell_type": "code",
      "source": [
        "#array of everysingle words_top_30\n",
        "pd.Series(\" \".join(df['stopwords']).split()).value_counts()[:30]"
      ],
      "metadata": {
        "id": "3qsi86ezUKI4"
      },
      "execution_count": null,
      "outputs": []
    },
    {
      "cell_type": "code",
      "source": [
        "other_stopwords =['go','say','ap','us','get','took']"
      ],
      "metadata": {
        "id": "SrGcJ-hmUse3"
      },
      "execution_count": null,
      "outputs": []
    },
    {
      "cell_type": "code",
      "source": [
        "df['cleanreview'] = df['stopwords'].apply (lambda x: \" \".join (word for word in x.split() if word not in other_stopwords ))"
      ],
      "metadata": {
        "id": "hby0oTbRVjDP"
      },
      "execution_count": null,
      "outputs": []
    },
    {
      "cell_type": "code",
      "source": [
        "df.head()"
      ],
      "metadata": {
        "id": "GafD51twWAis"
      },
      "execution_count": null,
      "outputs": []
    },
    {
      "cell_type": "code",
      "source": [
        "df['cleanview_word_count'] =df['cleanreview'].apply(lambda x: len(x.split()))"
      ],
      "metadata": {
        "id": "JN-aAYlNcqSv"
      },
      "execution_count": null,
      "outputs": []
    },
    {
      "cell_type": "code",
      "source": [
        "# percentage_rate_cleanview_word_count_in_each_review\n",
        "df['clean_rate'] = df['cleanview_word_count']/df['word_count']"
      ],
      "metadata": {
        "id": "Uv1Wbk6cdETI"
      },
      "execution_count": null,
      "outputs": []
    },
    {
      "cell_type": "code",
      "source": [
        "#transform_word_into_their_baseline\n",
        "#lemmatization\n",
        "from textblob import Word\n",
        "nltk.download('wordnet')"
      ],
      "metadata": {
        "id": "YGVQPge8WEm7"
      },
      "execution_count": null,
      "outputs": []
    },
    {
      "cell_type": "code",
      "source": [
        "df['lemmatized'] = df['cleanreview'].apply(lambda  x: \" \".join(Word(word).lemmatize() for word in x.split()))"
      ],
      "metadata": {
        "id": "LK-OeUxyXd-Z"
      },
      "execution_count": null,
      "outputs": []
    },
    {
      "cell_type": "code",
      "source": [
        "##Sentiment Analysis\n",
        "from textblob import TextBlob"
      ],
      "metadata": {
        "id": "xiLLidESYU2R"
      },
      "execution_count": null,
      "outputs": []
    },
    {
      "cell_type": "code",
      "source": [
        "df['polarity'] = df['lemmatized'].apply(lambda x: TextBlob(x).sentiment[0])\n",
        "df['subjectivity'] = df['lemmatized'].apply(lambda x: TextBlob(x).sentiment[1])"
      ],
      "metadata": {
        "id": "DVi2lxB1bE5h"
      },
      "execution_count": null,
      "outputs": []
    },
    {
      "cell_type": "code",
      "source": [
        "df.describe()"
      ],
      "metadata": {
        "id": "uoKXAGeibi1f"
      },
      "execution_count": null,
      "outputs": []
    },
    {
      "cell_type": "code",
      "source": [
        "df.head()"
      ],
      "metadata": {
        "id": "xKFBek5Uepu1"
      },
      "execution_count": null,
      "outputs": []
    },
    {
      "cell_type": "code",
      "source": [
        "df.drop(['lowercase','punctuation','stopwords','cleanreview'], axis = 1, inplace = True)"
      ],
      "metadata": {
        "id": "qkjwx_jmcF32"
      },
      "execution_count": null,
      "outputs": []
    },
    {
      "cell_type": "code",
      "source": [
        "df.head()"
      ],
      "metadata": {
        "id": "eiOKr235de9t"
      },
      "execution_count": null,
      "outputs": []
    },
    {
      "cell_type": "code",
      "source": [
        "df.sort_values(by='polarity')"
      ],
      "metadata": {
        "id": "68PgPprhfLtp"
      },
      "execution_count": null,
      "outputs": []
    },
    {
      "cell_type": "code",
      "source": [
        ""
      ],
      "metadata": {
        "id": "KCgW4X5kfeq3"
      },
      "execution_count": null,
      "outputs": []
    }
  ]
}